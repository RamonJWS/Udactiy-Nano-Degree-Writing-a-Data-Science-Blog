{
 "cells": [
  {
   "cell_type": "code",
   "execution_count": 44,
   "metadata": {},
   "outputs": [],
   "source": [
    "import numpy as np\n",
    "import pandas as pd\n",
    "import matplotlib.pyplot as plt\n",
    "import seaborn as sns\n",
    "%matplotlib inline"
   ]
  },
  {
   "cell_type": "markdown",
   "metadata": {},
   "source": [
    "## Questions: \n",
    "**1). Do people who code as a hobby and work as a developer tend to have higher job satisaction? <br>\n",
    "2). What are the biggest contributors towards salary? <br>\n",
    "3). Are students expected salaries resonable for the top 5 most frequent countries in the survey?**"
   ]
  },
  {
   "cell_type": "markdown",
   "metadata": {},
   "source": [
    "About the data: <br>\n",
    "This data is taken from a 2017 stackoverflow survey. All the questions asked can be found in the schema dataframe, and the respective answers can be found in the dataframe df."
   ]
  },
  {
   "cell_type": "code",
   "execution_count": 45,
   "metadata": {},
   "outputs": [
    {
     "data": {
      "text/html": [
       "<div>\n",
       "<style scoped>\n",
       "    .dataframe tbody tr th:only-of-type {\n",
       "        vertical-align: middle;\n",
       "    }\n",
       "\n",
       "    .dataframe tbody tr th {\n",
       "        vertical-align: top;\n",
       "    }\n",
       "\n",
       "    .dataframe thead th {\n",
       "        text-align: right;\n",
       "    }\n",
       "</style>\n",
       "<table border=\"1\" class=\"dataframe\">\n",
       "  <thead>\n",
       "    <tr style=\"text-align: right;\">\n",
       "      <th></th>\n",
       "      <th>Respondent</th>\n",
       "      <th>Professional</th>\n",
       "      <th>ProgramHobby</th>\n",
       "      <th>Country</th>\n",
       "      <th>University</th>\n",
       "      <th>EmploymentStatus</th>\n",
       "      <th>FormalEducation</th>\n",
       "      <th>MajorUndergrad</th>\n",
       "      <th>HomeRemote</th>\n",
       "      <th>CompanySize</th>\n",
       "      <th>...</th>\n",
       "      <th>StackOverflowMakeMoney</th>\n",
       "      <th>Gender</th>\n",
       "      <th>HighestEducationParents</th>\n",
       "      <th>Race</th>\n",
       "      <th>SurveyLong</th>\n",
       "      <th>QuestionsInteresting</th>\n",
       "      <th>QuestionsConfusing</th>\n",
       "      <th>InterestedAnswers</th>\n",
       "      <th>Salary</th>\n",
       "      <th>ExpectedSalary</th>\n",
       "    </tr>\n",
       "  </thead>\n",
       "  <tbody>\n",
       "    <tr>\n",
       "      <th>0</th>\n",
       "      <td>1</td>\n",
       "      <td>Student</td>\n",
       "      <td>Yes, both</td>\n",
       "      <td>United States</td>\n",
       "      <td>No</td>\n",
       "      <td>Not employed, and not looking for work</td>\n",
       "      <td>Secondary school</td>\n",
       "      <td>NaN</td>\n",
       "      <td>NaN</td>\n",
       "      <td>NaN</td>\n",
       "      <td>...</td>\n",
       "      <td>Strongly disagree</td>\n",
       "      <td>Male</td>\n",
       "      <td>High school</td>\n",
       "      <td>White or of European descent</td>\n",
       "      <td>Strongly disagree</td>\n",
       "      <td>Strongly agree</td>\n",
       "      <td>Disagree</td>\n",
       "      <td>Strongly agree</td>\n",
       "      <td>NaN</td>\n",
       "      <td>NaN</td>\n",
       "    </tr>\n",
       "    <tr>\n",
       "      <th>1</th>\n",
       "      <td>2</td>\n",
       "      <td>Student</td>\n",
       "      <td>Yes, both</td>\n",
       "      <td>United Kingdom</td>\n",
       "      <td>Yes, full-time</td>\n",
       "      <td>Employed part-time</td>\n",
       "      <td>Some college/university study without earning ...</td>\n",
       "      <td>Computer science or software engineering</td>\n",
       "      <td>More than half, but not all, the time</td>\n",
       "      <td>20 to 99 employees</td>\n",
       "      <td>...</td>\n",
       "      <td>Strongly disagree</td>\n",
       "      <td>Male</td>\n",
       "      <td>A master's degree</td>\n",
       "      <td>White or of European descent</td>\n",
       "      <td>Somewhat agree</td>\n",
       "      <td>Somewhat agree</td>\n",
       "      <td>Disagree</td>\n",
       "      <td>Strongly agree</td>\n",
       "      <td>NaN</td>\n",
       "      <td>37500.0</td>\n",
       "    </tr>\n",
       "    <tr>\n",
       "      <th>2</th>\n",
       "      <td>3</td>\n",
       "      <td>Professional developer</td>\n",
       "      <td>Yes, both</td>\n",
       "      <td>United Kingdom</td>\n",
       "      <td>No</td>\n",
       "      <td>Employed full-time</td>\n",
       "      <td>Bachelor's degree</td>\n",
       "      <td>Computer science or software engineering</td>\n",
       "      <td>Less than half the time, but at least one day ...</td>\n",
       "      <td>10,000 or more employees</td>\n",
       "      <td>...</td>\n",
       "      <td>Disagree</td>\n",
       "      <td>Male</td>\n",
       "      <td>A professional degree</td>\n",
       "      <td>White or of European descent</td>\n",
       "      <td>Somewhat agree</td>\n",
       "      <td>Agree</td>\n",
       "      <td>Disagree</td>\n",
       "      <td>Agree</td>\n",
       "      <td>113750.0</td>\n",
       "      <td>NaN</td>\n",
       "    </tr>\n",
       "    <tr>\n",
       "      <th>3</th>\n",
       "      <td>4</td>\n",
       "      <td>Professional non-developer who sometimes write...</td>\n",
       "      <td>Yes, both</td>\n",
       "      <td>United States</td>\n",
       "      <td>No</td>\n",
       "      <td>Employed full-time</td>\n",
       "      <td>Doctoral degree</td>\n",
       "      <td>A non-computer-focused engineering discipline</td>\n",
       "      <td>Less than half the time, but at least one day ...</td>\n",
       "      <td>10,000 or more employees</td>\n",
       "      <td>...</td>\n",
       "      <td>Disagree</td>\n",
       "      <td>Male</td>\n",
       "      <td>A doctoral degree</td>\n",
       "      <td>White or of European descent</td>\n",
       "      <td>Agree</td>\n",
       "      <td>Agree</td>\n",
       "      <td>Somewhat agree</td>\n",
       "      <td>Strongly agree</td>\n",
       "      <td>NaN</td>\n",
       "      <td>NaN</td>\n",
       "    </tr>\n",
       "    <tr>\n",
       "      <th>4</th>\n",
       "      <td>5</td>\n",
       "      <td>Professional developer</td>\n",
       "      <td>Yes, I program as a hobby</td>\n",
       "      <td>Switzerland</td>\n",
       "      <td>No</td>\n",
       "      <td>Employed full-time</td>\n",
       "      <td>Master's degree</td>\n",
       "      <td>Computer science or software engineering</td>\n",
       "      <td>Never</td>\n",
       "      <td>10 to 19 employees</td>\n",
       "      <td>...</td>\n",
       "      <td>NaN</td>\n",
       "      <td>NaN</td>\n",
       "      <td>NaN</td>\n",
       "      <td>NaN</td>\n",
       "      <td>NaN</td>\n",
       "      <td>NaN</td>\n",
       "      <td>NaN</td>\n",
       "      <td>NaN</td>\n",
       "      <td>NaN</td>\n",
       "      <td>NaN</td>\n",
       "    </tr>\n",
       "  </tbody>\n",
       "</table>\n",
       "<p>5 rows × 154 columns</p>\n",
       "</div>"
      ],
      "text/plain": [
       "   Respondent                                       Professional  \\\n",
       "0           1                                            Student   \n",
       "1           2                                            Student   \n",
       "2           3                             Professional developer   \n",
       "3           4  Professional non-developer who sometimes write...   \n",
       "4           5                             Professional developer   \n",
       "\n",
       "                ProgramHobby         Country      University  \\\n",
       "0                  Yes, both   United States              No   \n",
       "1                  Yes, both  United Kingdom  Yes, full-time   \n",
       "2                  Yes, both  United Kingdom              No   \n",
       "3                  Yes, both   United States              No   \n",
       "4  Yes, I program as a hobby     Switzerland              No   \n",
       "\n",
       "                         EmploymentStatus  \\\n",
       "0  Not employed, and not looking for work   \n",
       "1                      Employed part-time   \n",
       "2                      Employed full-time   \n",
       "3                      Employed full-time   \n",
       "4                      Employed full-time   \n",
       "\n",
       "                                     FormalEducation  \\\n",
       "0                                   Secondary school   \n",
       "1  Some college/university study without earning ...   \n",
       "2                                  Bachelor's degree   \n",
       "3                                    Doctoral degree   \n",
       "4                                    Master's degree   \n",
       "\n",
       "                                  MajorUndergrad  \\\n",
       "0                                            NaN   \n",
       "1       Computer science or software engineering   \n",
       "2       Computer science or software engineering   \n",
       "3  A non-computer-focused engineering discipline   \n",
       "4       Computer science or software engineering   \n",
       "\n",
       "                                          HomeRemote  \\\n",
       "0                                                NaN   \n",
       "1              More than half, but not all, the time   \n",
       "2  Less than half the time, but at least one day ...   \n",
       "3  Less than half the time, but at least one day ...   \n",
       "4                                              Never   \n",
       "\n",
       "                CompanySize  ... StackOverflowMakeMoney Gender  \\\n",
       "0                       NaN  ...      Strongly disagree   Male   \n",
       "1        20 to 99 employees  ...      Strongly disagree   Male   \n",
       "2  10,000 or more employees  ...               Disagree   Male   \n",
       "3  10,000 or more employees  ...               Disagree   Male   \n",
       "4        10 to 19 employees  ...                    NaN    NaN   \n",
       "\n",
       "  HighestEducationParents                          Race         SurveyLong  \\\n",
       "0             High school  White or of European descent  Strongly disagree   \n",
       "1       A master's degree  White or of European descent     Somewhat agree   \n",
       "2   A professional degree  White or of European descent     Somewhat agree   \n",
       "3       A doctoral degree  White or of European descent              Agree   \n",
       "4                     NaN                           NaN                NaN   \n",
       "\n",
       "  QuestionsInteresting QuestionsConfusing InterestedAnswers    Salary  \\\n",
       "0       Strongly agree           Disagree    Strongly agree       NaN   \n",
       "1       Somewhat agree           Disagree    Strongly agree       NaN   \n",
       "2                Agree           Disagree             Agree  113750.0   \n",
       "3                Agree     Somewhat agree    Strongly agree       NaN   \n",
       "4                  NaN                NaN               NaN       NaN   \n",
       "\n",
       "   ExpectedSalary  \n",
       "0             NaN  \n",
       "1         37500.0  \n",
       "2             NaN  \n",
       "3             NaN  \n",
       "4             NaN  \n",
       "\n",
       "[5 rows x 154 columns]"
      ]
     },
     "execution_count": 45,
     "metadata": {},
     "output_type": "execute_result"
    }
   ],
   "source": [
    "df = pd.read_csv(\"survey-results-public.csv\")\n",
    "schema = pd.read_csv(\"survey-results-schema.csv\")\n",
    "df.head()"
   ]
  },
  {
   "cell_type": "markdown",
   "metadata": {},
   "source": [
    "### 1). Do people who code as a hobby and work as a developer tend to have higher job satisaction?"
   ]
  },
  {
   "cell_type": "markdown",
   "metadata": {},
   "source": [
    "I would like to know the difference in overall job satisfaction between those that code as a hobby or contribute towards open source, and those who dont. I would like to know this statistic as a percentage value for all ranks of job satisfaction. "
   ]
  },
  {
   "cell_type": "markdown",
   "metadata": {},
   "source": [
    "To answer this question I will need to split the data into those that code as a hobby and those that dont. To determine this I need to find the number of unique entries there are in the \"Professional\" column and see which relate to the above question."
   ]
  },
  {
   "cell_type": "code",
   "execution_count": 46,
   "metadata": {},
   "outputs": [
    {
     "data": {
      "text/plain": [
       "Professional developer                                  36131\n",
       "Student                                                  8224\n",
       "Professional non-developer who sometimes writes code     5140\n",
       "Used to be a professional developer                       983\n",
       "None of these                                             914\n",
       "Name: Professional, dtype: int64"
      ]
     },
     "execution_count": 46,
     "metadata": {},
     "output_type": "execute_result"
    }
   ],
   "source": [
    "# what type of professionals answered the survey and how many of each categeory are there?\n",
    "df.Professional.value_counts()"
   ]
  },
  {
   "cell_type": "markdown",
   "metadata": {},
   "source": [
    "Above the two categories that will be useful are the professional developer (as they are currently working) and \"used to be a professional developer\"."
   ]
  },
  {
   "cell_type": "code",
   "execution_count": 47,
   "metadata": {},
   "outputs": [],
   "source": [
    "# from the above I can use the profesional developer and used to be a profesional developer\n",
    "df_dev = df[(df.Professional == \"Professional developer\") | (df.Professional == \"Used to be a professional developer\")]"
   ]
  },
  {
   "cell_type": "markdown",
   "metadata": {},
   "source": [
    "To understand which questions count as coding as a hobby or open source the schema will need to be refered to"
   ]
  },
  {
   "cell_type": "code",
   "execution_count": 48,
   "metadata": {},
   "outputs": [
    {
     "data": {
      "text/plain": [
       "'Do you program as a hobby or contribute to open source projects?'"
      ]
     },
     "execution_count": 48,
     "metadata": {},
     "output_type": "execute_result"
    }
   ],
   "source": [
    "# What does the Program as hobby ask?\n",
    "list(schema[schema.Column == \"ProgramHobby\"].Question)[0]"
   ]
  },
  {
   "cell_type": "code",
   "execution_count": 49,
   "metadata": {},
   "outputs": [
    {
     "data": {
      "text/plain": [
       "Yes, I program as a hobby                    16799\n",
       "Yes, both                                    10278\n",
       "No                                            7726\n",
       "Yes, I contribute to open source projects     2311\n",
       "Name: ProgramHobby, dtype: int64"
      ]
     },
     "execution_count": 49,
     "metadata": {},
     "output_type": "execute_result"
    }
   ],
   "source": [
    "# unique values and frequency?\n",
    "df_dev.ProgramHobby.value_counts()"
   ]
  },
  {
   "cell_type": "markdown",
   "metadata": {},
   "source": [
    "Only those that code as a hobby or contribute towards open source should be included, going forwards the \"No\" category will be filtered out. "
   ]
  },
  {
   "cell_type": "code",
   "execution_count": 50,
   "metadata": {},
   "outputs": [
    {
     "data": {
      "text/plain": [
       "1433"
      ]
     },
     "execution_count": 50,
     "metadata": {},
     "output_type": "execute_result"
    }
   ],
   "source": [
    "df_dev.JobSatisfaction.isna().sum()"
   ]
  },
  {
   "cell_type": "markdown",
   "metadata": {},
   "source": [
    "To answer the above questions the Job Satisfaction column is needed, this column currently has null values in it. Going forwards the null values will be drop, this is becasue imputing the missing values could lead to diluted data and therefore a statistic that doen not accurately measure the true statistic."
   ]
  },
  {
   "cell_type": "code",
   "execution_count": 51,
   "metadata": {},
   "outputs": [],
   "source": [
    "df_dev = df_dev.dropna(subset=[\"JobSatisfaction\"])"
   ]
  },
  {
   "cell_type": "markdown",
   "metadata": {},
   "source": [
    "The below code shows that the null values have been dropped"
   ]
  },
  {
   "cell_type": "code",
   "execution_count": 52,
   "metadata": {},
   "outputs": [
    {
     "data": {
      "text/plain": [
       "0"
      ]
     },
     "execution_count": 52,
     "metadata": {},
     "output_type": "execute_result"
    }
   ],
   "source": [
    "df_dev.JobSatisfaction.isna().sum()"
   ]
  },
  {
   "cell_type": "markdown",
   "metadata": {},
   "source": [
    "The dataframe will not have to be split into code for hobby and not. To answer the above question both dataframes will have all their individual job satisfaction ratings counted and summed together, the values will then be divided by the length of the dataframe and times by 100 to give the answer as a percentage."
   ]
  },
  {
   "cell_type": "code",
   "execution_count": 53,
   "metadata": {},
   "outputs": [],
   "source": [
    "# I will include all but \"no\"\n",
    "df_dev_hob = df_dev[df_dev.ProgramHobby != \"No\"]\n",
    "# create series of developers who code for fun job statisfaction as a percentage:\n",
    "dev_hob_job = pd.Series(df_dev_hob.JobSatisfaction.value_counts()/len(df_dev_hob))\n",
    "\n",
    "# What about the developers that dont code for fun?\n",
    "df_dev_no = df_dev[(df_dev.ProgramHobby == \"No\")]\n",
    "dev_no_job = pd.Series(df_dev_no.JobSatisfaction.value_counts()/len(df_dev_no))"
   ]
  },
  {
   "cell_type": "code",
   "execution_count": 54,
   "metadata": {},
   "outputs": [],
   "source": [
    "# creating a dataframe for the difference in job satisfaction for hobby and non-hobby\n",
    "hob_job = dev_hob_job.rename(\"Hobby\")\n",
    "no_job = dev_no_job.rename(\"NotHobby\")\n",
    "diff = pd.concat([no_job, hob_job],axis=1)\n",
    "diff[\"difference\"] = 100*(diff.Hobby - diff.NotHobby)"
   ]
  },
  {
   "cell_type": "code",
   "execution_count": 55,
   "metadata": {},
   "outputs": [
    {
     "data": {
      "image/png": "[encoded data removed]",
      "text/plain": [
       "<Figure size 1080x288 with 2 Axes>"
      ]
     },
     "metadata": {
      "needs_background": "light"
     },
     "output_type": "display_data"
    }
   ],
   "source": [
    "fig, (ax1, ax2) = plt.subplots(1, 2, figsize=(15,4))\n",
    "ax1.bar(dev_hob_job.index, 100*dev_hob_job.values, color = \"blue\", alpha = 0.4, label=\"As Hobby\")\n",
    "ax1.bar(dev_no_job.index, 100*dev_no_job.values, color=\"green\", alpha = 0.4, label=\"Not As Hobby\")\n",
    "ax1.set(xlabel='Job Satisfaction', ylabel='Percentage')\n",
    "ax1.set_title(\"Job Satisfaction and Coding as a Hobby\");\n",
    "ax1.legend();\n",
    "\n",
    "col = np.where(diff.difference < 0, \"green\", \"blue\")\n",
    "ax2.bar(diff.index, diff.difference, color = col, alpha = 0.4, label=\"As Hobby\")\n",
    "ax2.set(xlabel='Job Satisfaction', ylabel='Percentage Difference')\n",
    "ax2.set_title(\"Differece Between Job Satisfaction When Coding as a Hobby vs Not\");"
   ]
  },
  {
   "cell_type": "code",
   "execution_count": 56,
   "metadata": {},
   "outputs": [
    {
     "name": "stdout",
     "output_type": "stream",
     "text": [
      "The mean Job Satisfaction for those that code as a hobby is: 7.04, and for those that dont: 6.86\n"
     ]
    }
   ],
   "source": [
    "print(\"The mean Job Satisfaction for those that code as a hobby is: {:.2f}, and for those that dont: {:.2f}\".format(df_dev_hob.JobSatisfaction.mean(),df_dev_no.JobSatisfaction.mean()))"
   ]
  },
  {
   "cell_type": "markdown",
   "metadata": {},
   "source": [
    "**Answer:** <br>\n",
    "People that code for fun have a higher percentage of job satisfactions above a rating of 8. However, this is only by a very small margin (as shown in the right plot) with the largest percentage disagreement in the job satisfaction rating of 9 being just over 1.5%. The mean value of people who code for fun is also slightly larger with a percenatage differenc of 2.6%. <br>\n",
    "\n",
    "Overall there does seem to be a slightly higher job satisfaction with people who code for fun.\n",
    "\n",
    "**Improvements** <br>\n",
    "To improve the results perhaps a more complex method to impute the dropped null values in the job satisfaction column could have been used, i.e. a softmax classifier could be used to predict the missing job satisfactions. This could result in the measured statistic being closer to the actual statistic. "
   ]
  },
  {
   "cell_type": "markdown",
   "metadata": {},
   "source": [
    "### 2). What are the biggest contributors towards salary for USA and UK?"
   ]
  },
  {
   "cell_type": "markdown",
   "metadata": {},
   "source": [
    "To answer this question trends in the data that correlate well with an increase in salary will need to be found. This is easily dont when working with numerical data, however, the majority of data in the dataset are categorical values. To overcome this problem the categorical values will be one hot encoded.\n",
    "\n",
    "The null values for the target variable \"Salary\" will all be dropped and not imputed. The nulls will not be imputed to prevent dilution of the dataset.\n",
    "\n",
    "As the salary is for each country is in its respective currancy the conversion from pounds to dollar will have to be carried out, this will allow for fair comparison.\n",
    "\n"
   ]
  },
  {
   "cell_type": "code",
   "execution_count": 57,
   "metadata": {},
   "outputs": [
    {
     "data": {
      "text/html": [
       "<div>\n",
       "<style scoped>\n",
       "    .dataframe tbody tr th:only-of-type {\n",
       "        vertical-align: middle;\n",
       "    }\n",
       "\n",
       "    .dataframe tbody tr th {\n",
       "        vertical-align: top;\n",
       "    }\n",
       "\n",
       "    .dataframe thead th {\n",
       "        text-align: right;\n",
       "    }\n",
       "</style>\n",
       "<table border=\"1\" class=\"dataframe\">\n",
       "  <thead>\n",
       "    <tr style=\"text-align: right;\">\n",
       "      <th></th>\n",
       "      <th>Respondent</th>\n",
       "      <th>Professional</th>\n",
       "      <th>ProgramHobby</th>\n",
       "      <th>Country</th>\n",
       "      <th>University</th>\n",
       "      <th>EmploymentStatus</th>\n",
       "      <th>FormalEducation</th>\n",
       "      <th>MajorUndergrad</th>\n",
       "      <th>HomeRemote</th>\n",
       "      <th>CompanySize</th>\n",
       "      <th>...</th>\n",
       "      <th>StackOverflowMakeMoney</th>\n",
       "      <th>Gender</th>\n",
       "      <th>HighestEducationParents</th>\n",
       "      <th>Race</th>\n",
       "      <th>SurveyLong</th>\n",
       "      <th>QuestionsInteresting</th>\n",
       "      <th>QuestionsConfusing</th>\n",
       "      <th>InterestedAnswers</th>\n",
       "      <th>Salary</th>\n",
       "      <th>ExpectedSalary</th>\n",
       "    </tr>\n",
       "  </thead>\n",
       "  <tbody>\n",
       "    <tr>\n",
       "      <th>2</th>\n",
       "      <td>3</td>\n",
       "      <td>Professional developer</td>\n",
       "      <td>Yes, both</td>\n",
       "      <td>United Kingdom</td>\n",
       "      <td>No</td>\n",
       "      <td>Employed full-time</td>\n",
       "      <td>Bachelor's degree</td>\n",
       "      <td>Computer science or software engineering</td>\n",
       "      <td>Less than half the time, but at least one day ...</td>\n",
       "      <td>10,000 or more employees</td>\n",
       "      <td>...</td>\n",
       "      <td>Disagree</td>\n",
       "      <td>Male</td>\n",
       "      <td>A professional degree</td>\n",
       "      <td>White or of European descent</td>\n",
       "      <td>Somewhat agree</td>\n",
       "      <td>Agree</td>\n",
       "      <td>Disagree</td>\n",
       "      <td>Agree</td>\n",
       "      <td>113750.0</td>\n",
       "      <td>NaN</td>\n",
       "    </tr>\n",
       "    <tr>\n",
       "      <th>14</th>\n",
       "      <td>15</td>\n",
       "      <td>Professional developer</td>\n",
       "      <td>Yes, I program as a hobby</td>\n",
       "      <td>United Kingdom</td>\n",
       "      <td>No</td>\n",
       "      <td>Employed full-time</td>\n",
       "      <td>Professional degree</td>\n",
       "      <td>Computer engineering or electrical/electronics...</td>\n",
       "      <td>All or almost all the time (I'm full-time remote)</td>\n",
       "      <td>5,000 to 9,999 employees</td>\n",
       "      <td>...</td>\n",
       "      <td>Disagree</td>\n",
       "      <td>Male</td>\n",
       "      <td>High school</td>\n",
       "      <td>White or of European descent</td>\n",
       "      <td>Somewhat agree</td>\n",
       "      <td>Agree</td>\n",
       "      <td>Disagree</td>\n",
       "      <td>Agree</td>\n",
       "      <td>100000.0</td>\n",
       "      <td>NaN</td>\n",
       "    </tr>\n",
       "    <tr>\n",
       "      <th>17</th>\n",
       "      <td>18</td>\n",
       "      <td>Professional developer</td>\n",
       "      <td>Yes, both</td>\n",
       "      <td>United States</td>\n",
       "      <td>Yes, part-time</td>\n",
       "      <td>Employed full-time</td>\n",
       "      <td>Bachelor's degree</td>\n",
       "      <td>Computer science or software engineering</td>\n",
       "      <td>All or almost all the time (I'm full-time remote)</td>\n",
       "      <td>1,000 to 4,999 employees</td>\n",
       "      <td>...</td>\n",
       "      <td>Disagree</td>\n",
       "      <td>Male</td>\n",
       "      <td>A master's degree</td>\n",
       "      <td>Native American, Pacific Islander, or Indigeno...</td>\n",
       "      <td>Disagree</td>\n",
       "      <td>Agree</td>\n",
       "      <td>Disagree</td>\n",
       "      <td>Agree</td>\n",
       "      <td>130000.0</td>\n",
       "      <td>NaN</td>\n",
       "    </tr>\n",
       "    <tr>\n",
       "      <th>18</th>\n",
       "      <td>19</td>\n",
       "      <td>Professional developer</td>\n",
       "      <td>Yes, I program as a hobby</td>\n",
       "      <td>United States</td>\n",
       "      <td>No</td>\n",
       "      <td>Employed full-time</td>\n",
       "      <td>Bachelor's degree</td>\n",
       "      <td>Computer science or software engineering</td>\n",
       "      <td>A few days each month</td>\n",
       "      <td>10,000 or more employees</td>\n",
       "      <td>...</td>\n",
       "      <td>NaN</td>\n",
       "      <td>NaN</td>\n",
       "      <td>NaN</td>\n",
       "      <td>NaN</td>\n",
       "      <td>NaN</td>\n",
       "      <td>NaN</td>\n",
       "      <td>NaN</td>\n",
       "      <td>NaN</td>\n",
       "      <td>82500.0</td>\n",
       "      <td>NaN</td>\n",
       "    </tr>\n",
       "    <tr>\n",
       "      <th>22</th>\n",
       "      <td>23</td>\n",
       "      <td>Professional developer</td>\n",
       "      <td>No</td>\n",
       "      <td>Israel</td>\n",
       "      <td>No</td>\n",
       "      <td>Employed full-time</td>\n",
       "      <td>Bachelor's degree</td>\n",
       "      <td>Computer engineering or electrical/electronics...</td>\n",
       "      <td>A few days each month</td>\n",
       "      <td>500 to 999 employees</td>\n",
       "      <td>...</td>\n",
       "      <td>Somewhat agree</td>\n",
       "      <td>Male</td>\n",
       "      <td>A bachelor's degree</td>\n",
       "      <td>White or of European descent</td>\n",
       "      <td>Strongly agree</td>\n",
       "      <td>Somewhat agree</td>\n",
       "      <td>Somewhat agree</td>\n",
       "      <td>Agree</td>\n",
       "      <td>100764.0</td>\n",
       "      <td>NaN</td>\n",
       "    </tr>\n",
       "  </tbody>\n",
       "</table>\n",
       "<p>5 rows × 154 columns</p>\n",
       "</div>"
      ],
      "text/plain": [
       "    Respondent            Professional               ProgramHobby  \\\n",
       "2            3  Professional developer                  Yes, both   \n",
       "14          15  Professional developer  Yes, I program as a hobby   \n",
       "17          18  Professional developer                  Yes, both   \n",
       "18          19  Professional developer  Yes, I program as a hobby   \n",
       "22          23  Professional developer                         No   \n",
       "\n",
       "           Country      University    EmploymentStatus      FormalEducation  \\\n",
       "2   United Kingdom              No  Employed full-time    Bachelor's degree   \n",
       "14  United Kingdom              No  Employed full-time  Professional degree   \n",
       "17   United States  Yes, part-time  Employed full-time    Bachelor's degree   \n",
       "18   United States              No  Employed full-time    Bachelor's degree   \n",
       "22          Israel              No  Employed full-time    Bachelor's degree   \n",
       "\n",
       "                                       MajorUndergrad  \\\n",
       "2            Computer science or software engineering   \n",
       "14  Computer engineering or electrical/electronics...   \n",
       "17           Computer science or software engineering   \n",
       "18           Computer science or software engineering   \n",
       "22  Computer engineering or electrical/electronics...   \n",
       "\n",
       "                                           HomeRemote  \\\n",
       "2   Less than half the time, but at least one day ...   \n",
       "14  All or almost all the time (I'm full-time remote)   \n",
       "17  All or almost all the time (I'm full-time remote)   \n",
       "18                              A few days each month   \n",
       "22                              A few days each month   \n",
       "\n",
       "                 CompanySize  ... StackOverflowMakeMoney Gender  \\\n",
       "2   10,000 or more employees  ...               Disagree   Male   \n",
       "14  5,000 to 9,999 employees  ...               Disagree   Male   \n",
       "17  1,000 to 4,999 employees  ...               Disagree   Male   \n",
       "18  10,000 or more employees  ...                    NaN    NaN   \n",
       "22      500 to 999 employees  ...         Somewhat agree   Male   \n",
       "\n",
       "   HighestEducationParents                                               Race  \\\n",
       "2    A professional degree                       White or of European descent   \n",
       "14             High school                       White or of European descent   \n",
       "17       A master's degree  Native American, Pacific Islander, or Indigeno...   \n",
       "18                     NaN                                                NaN   \n",
       "22     A bachelor's degree                       White or of European descent   \n",
       "\n",
       "        SurveyLong QuestionsInteresting QuestionsConfusing InterestedAnswers  \\\n",
       "2   Somewhat agree                Agree           Disagree             Agree   \n",
       "14  Somewhat agree                Agree           Disagree             Agree   \n",
       "17        Disagree                Agree           Disagree             Agree   \n",
       "18             NaN                  NaN                NaN               NaN   \n",
       "22  Strongly agree       Somewhat agree     Somewhat agree             Agree   \n",
       "\n",
       "      Salary  ExpectedSalary  \n",
       "2   113750.0             NaN  \n",
       "14  100000.0             NaN  \n",
       "17  130000.0             NaN  \n",
       "18   82500.0             NaN  \n",
       "22  100764.0             NaN  \n",
       "\n",
       "[5 rows x 154 columns]"
      ]
     },
     "execution_count": 57,
     "metadata": {},
     "output_type": "execute_result"
    }
   ],
   "source": [
    "# drop cells that dont contain a salary:\n",
    "df2 = df.dropna(subset=[\"Salary\"])\n",
    "df2.head()"
   ]
  },
  {
   "cell_type": "code",
   "execution_count": 58,
   "metadata": {},
   "outputs": [
    {
     "data": {
      "text/plain": [
       "'What is your current annual base salary, before taxes, and excluding bonuses, grants, or other compensation?'"
      ]
     },
     "execution_count": 58,
     "metadata": {},
     "output_type": "execute_result"
    }
   ],
   "source": [
    "list(schema[schema.Column == \"Salary\"].Question)[0] # salary in different currencies..."
   ]
  },
  {
   "cell_type": "code",
   "execution_count": 59,
   "metadata": {},
   "outputs": [
    {
     "name": "stderr",
     "output_type": "stream",
     "text": [
      "<ipython-input-59-cfd2f8183b8f>:8: SettingWithCopyWarning: \n",
      "A value is trying to be set on a copy of a slice from a DataFrame.\n",
      "Try using .loc[row_indexer,col_indexer] = value instead\n",
      "\n",
      "See the caveats in the documentation: https://pandas.pydata.org/pandas-docs/stable/user_guide/indexing.html#returning-a-view-versus-a-copy\n",
      "  df[\"Salary\"] = df[[\"Country\",\"Salary\"]].apply(lambda x: x[1]*1.39 if x[0] == \"United Kingdom\" else x[1], axis=1)\n"
     ]
    }
   ],
   "source": [
    "# reduce df to United States and United Kingdom, and convert pounds to dollars 1:1.39 (10/07/2021)\n",
    "def usa_uk_dollar(df):\n",
    "    '''\n",
    "    Input the dataframe.\n",
    "    Output the dataframe with salary in pounds converted to dollars.\n",
    "    '''\n",
    "    df = df[(df.Country == \"United Kingdom\") | (df.Country == \"United States\")]\n",
    "    df[\"Salary\"] = df[[\"Country\",\"Salary\"]].apply(lambda x: x[1]*1.39 if x[0] == \"United Kingdom\" else x[1], axis=1)\n",
    "    \n",
    "    return df\n",
    "\n",
    "df2 = usa_uk_dollar(df2)"
   ]
  },
  {
   "cell_type": "code",
   "execution_count": 60,
   "metadata": {},
   "outputs": [],
   "source": [
    "def remove_all_null_columns(df):\n",
    "    '''\n",
    "    Input the dataframe\n",
    "    Output the dataframe without columns with all missing values\n",
    "    '''\n",
    "    cols = list(df.columns)\n",
    "    df_len = len(df)\n",
    "    all_null_columns = []\n",
    "    \n",
    "    for col in df.columns:\n",
    "        if df[col].isna().sum() == df_len:\n",
    "            all_null_columns.append(col)\n",
    "            \n",
    "    df = df.drop(labels=all_null_columns, axis=1)\n",
    "    \n",
    "    return df\n",
    "\n",
    "df2 = remove_all_null_columns(df2)"
   ]
  },
  {
   "cell_type": "markdown",
   "metadata": {},
   "source": [
    "All the missing values in the numerical columns will be replaced with the mean values.\n",
    "All the missing values in the categorical columns will be replaced with the most common values.\n",
    "\n",
    "This will allow for the dataset to have more usable samples when aswering the questions above, however, dilution of data should be kept in mind."
   ]
  },
  {
   "cell_type": "code",
   "execution_count": 61,
   "metadata": {},
   "outputs": [],
   "source": [
    "def imputer(df):\n",
    "    '''\n",
    "    Input df\n",
    "    Output df with NaN values filled with mean for numeric values and mode for categroical values\n",
    "    '''\n",
    "    df_num = df.select_dtypes(include=[int,float])\n",
    "    df_cat = df.select_dtypes(include=object)\n",
    "\n",
    "    df_num = df_num.apply(lambda col: col.fillna(col.mean()), axis=0)\n",
    "    df_cat = df_cat.apply(lambda col: col.fillna(col.mode()[0]), axis=0)\n",
    "    \n",
    "    return pd.concat([df_num, df_cat], axis=1)\n",
    "\n",
    "df2 = imputer(df2)"
   ]
  },
  {
   "cell_type": "code",
   "execution_count": 62,
   "metadata": {
    "scrolled": true
   },
   "outputs": [
    {
     "data": {
      "text/plain": [
       "(5167, 12099)"
      ]
     },
     "execution_count": 62,
     "metadata": {},
     "output_type": "execute_result"
    }
   ],
   "source": [
    "# convert all catagorical values into dummy variables:\n",
    "def dummy_variables(df):\n",
    "    '''\n",
    "    Input dataframe\n",
    "    Output the dataframe with all categroical values as individual binary columns\n",
    "    '''\n",
    "    \n",
    "    col_cat = df.select_dtypes(include = object)\n",
    "\n",
    "    for col in col_cat.columns:\n",
    "        df = pd.concat([df.drop(labels=col,axis=1), pd.get_dummies(df[col], prefix=col, prefix_sep=\"_\", drop_first=True, dummy_na=False)],axis=1)\n",
    "        \n",
    "    return df\n",
    "\n",
    "df2 = dummy_variables(df2)\n",
    "df2.shape"
   ]
  },
  {
   "cell_type": "markdown",
   "metadata": {},
   "source": [
    "Creating dummy variables from the dataframe has resulted in a very large number of features, it would be a very tidius job to manually plot these individual features out and look for correlations or trends. For this reason the correlation with method will be used to give a numeric value of how well the feature correlats to the target value."
   ]
  },
  {
   "cell_type": "markdown",
   "metadata": {},
   "source": [
    "Only the top 5 have been selected in this case, however, the code will allow for as many as the reader likes to be looked at."
   ]
  },
  {
   "cell_type": "code",
   "execution_count": 63,
   "metadata": {},
   "outputs": [
    {
     "data": {
      "text/plain": [
       "YearsProgram_20 or more years              0.369088\n",
       "Currency_U.S. dollars ($)                  0.290947\n",
       "Country_United States                      0.287580\n",
       "YearsCodedJob_20 or more years             0.275009\n",
       "CompanyType_Publicly-traded corporation    0.226129\n",
       "dtype: float64"
      ]
     },
     "execution_count": 63,
     "metadata": {},
     "output_type": "execute_result"
    }
   ],
   "source": [
    "salary_corr = df2.drop(labels=\"Salary\",axis=1).corrwith(df2.Salary).sort_values(ascending=False)\n",
    "salary_corr[0:5]"
   ]
  },
  {
   "cell_type": "markdown",
   "metadata": {},
   "source": [
    "What do the columns above mean? The schema can be consulted to answer this question:"
   ]
  },
  {
   "cell_type": "code",
   "execution_count": 64,
   "metadata": {},
   "outputs": [
    {
     "name": "stdout",
     "output_type": "stream",
     "text": [
      "1). How long has it been since you first learned how to program?\n",
      "2). Which currency do you use day-to-day? If you're a globe-trotting digital nomad and the answer is “it's complicated,” please pick the one you're most comfortable estimating in.\n",
      "3). In which country do you currently live?\n",
      "4). For how many years have you coded as part of your job?\n",
      "5). Which of the following best describes the type of company or organization you work for?\n"
     ]
    }
   ],
   "source": [
    "questions = []\n",
    "for item in list(salary_corr[0:5].index):\n",
    "    questions.append(item.split(\"_\")[0])\n",
    "\n",
    "for count, question in enumerate(questions):\n",
    "    print(str(count+1) + str(\").\"), list(schema[schema.Column == question].Question)[0])"
   ]
  },
  {
   "cell_type": "markdown",
   "metadata": {},
   "source": [
    "The labels for salary_corr will be updated to be more readable for the end user."
   ]
  },
  {
   "cell_type": "code",
   "execution_count": 65,
   "metadata": {},
   "outputs": [],
   "source": [
    "# making the answers readable:\n",
    "correlation_questions_answers = [\"Years of Programming > 20\", \"Currency Paid in: USD\", \"Country: USA\", \"Years Coding Professionally > 20\", \"Company Type: Public\"]\n",
    "top_salary_corr = pd.Series(data=salary_corr[0:5].values, index=correlation_questions_answers)"
   ]
  },
  {
   "cell_type": "code",
   "execution_count": 66,
   "metadata": {},
   "outputs": [
    {
     "data": {
      "image/png": "[encoded data removed]",
      "text/plain": [
       "<Figure size 432x288 with 1 Axes>"
      ]
     },
     "metadata": {
      "needs_background": "light"
     },
     "output_type": "display_data"
    }
   ],
   "source": [
    "plt.bar(x=top_salary_corr.index, height=top_salary_corr.values)\n",
    "plt.title(\"How to Improve Your Salary!\")\n",
    "plt.ylabel(\"Correlation to Salary\")\n",
    "plt.xticks(rotation=60);"
   ]
  },
  {
   "cell_type": "markdown",
   "metadata": {},
   "source": [
    "**Results** <br>\n",
    "The plot above shows that to increase your salary the best options are to have gained more than 20 years of programming experience, to be paid in USD, to live in the USA, and to work in a publically traded company.\n",
    "\n",
    "In the data their could still be features that are more correlated to the increase of salary, a correlation algorithm looks at the individual feature as a whole and cannot find complex patters in the data. For example if one of the features shows a y=x^2 realtionship then its correlation will be low, but certain areas of that featue will show very large increases in salary.\n",
    "\n",
    "The effects of imputing the missing values could have induced some dilution in the dataset. \n",
    "\n",
    "The answers to the question above make sense given my understanding of salaries and the US market place, so i would be confident taking these findings forwards."
   ]
  },
  {
   "cell_type": "markdown",
   "metadata": {},
   "source": [
    "### 3). Are students expected salaries resonable for the top 5 most frequent countries in the survey?"
   ]
  },
  {
   "cell_type": "markdown",
   "metadata": {},
   "source": [
    "This question will be answered to draw up a statistic of the percentage difference between what students expect to be paid compared to what they are likely to be paid."
   ]
  },
  {
   "cell_type": "markdown",
   "metadata": {},
   "source": [
    "To answer this question the country, salary, expected salary, profession, and years having a coding job columns will be needed. The data will first be split to include only those that are from the top 5 most occurring countries in the dataset, this will allow for the larger sampling sets to be used when finding the statistics. "
   ]
  },
  {
   "cell_type": "markdown",
   "metadata": {},
   "source": [
    "The below code is used to include only the top 5 countries in the final statisitic, more can be easily found if needed (the code scales well)."
   ]
  },
  {
   "cell_type": "code",
   "execution_count": 67,
   "metadata": {},
   "outputs": [],
   "source": [
    "# getting the most occuring countries:\n",
    "def top_countries(df, num_countries = 5):\n",
    "    '''\n",
    "    Inputs the dataframe and the number of top occuring countries to reduce the dataframe down to.\n",
    "    Returns the dataframe with only the top countries by count.\n",
    "    '''\n",
    "    not_top_countries = list(df.Country.value_counts().index[num_countries:])\n",
    "    for countries in not_top_countries:\n",
    "        df = df[df.Country != countries]\n",
    "        \n",
    "    return df\n",
    "\n",
    "df3 = top_countries(df, num_countries=5)"
   ]
  },
  {
   "cell_type": "markdown",
   "metadata": {},
   "source": [
    "All of the salaries and expected salaries are need to answer this question. I have decided to drop the missing values rather than imputing them, this will allow for a dataset to more accurately represent the true population."
   ]
  },
  {
   "cell_type": "code",
   "execution_count": 68,
   "metadata": {},
   "outputs": [],
   "source": [
    "def create_student_and_dev_df(df):\n",
    "    \n",
    "    # only students have expected salaries\n",
    "    df_student = df.dropna(subset=[\"ExpectedSalary\"])\n",
    "    \n",
    "    df_dev = df.dropna(subset=[\"Salary\"])\n",
    "    # only look at developers with 0-2 years experience\n",
    "    df_dev = df_dev[(df_dev.YearsCodedJob == \"Less than a year\") | (df_dev.YearsCodedJob == \"1 to 2 years\")]\n",
    "    \n",
    "    return df_student, df_dev\n",
    "\n",
    "df3_student, df3_dev = create_student_and_dev_df(df3)"
   ]
  },
  {
   "cell_type": "markdown",
   "metadata": {},
   "source": [
    "A measure of center needs to be taken for the expected salary and salary to allow for a comparision and percentage difference. The distribution of the data will be needed to decide what statistic to use for centrality."
   ]
  },
  {
   "cell_type": "code",
   "execution_count": 69,
   "metadata": {},
   "outputs": [
    {
     "data": {
      "image/png": "[encoded data removed]",
      "text/plain": [
       "<Figure size 720x288 with 2 Axes>"
      ]
     },
     "metadata": {
      "needs_background": "light"
     },
     "output_type": "display_data"
    },
    {
     "data": {
      "image/png": "[encoded data removed]",
      "text/plain": [
       "<Figure size 720x288 with 2 Axes>"
      ]
     },
     "metadata": {
      "needs_background": "light"
     },
     "output_type": "display_data"
    },
    {
     "data": {
      "image/png": "[encoded data removed]",
      "text/plain": [
       "<Figure size 720x288 with 2 Axes>"
      ]
     },
     "metadata": {
      "needs_background": "light"
     },
     "output_type": "display_data"
    },
    {
     "data": {
      "image/png": "[encoded data removed]",
      "text/plain": [
       "<Figure size 720x288 with 2 Axes>"
      ]
     },
     "metadata": {
      "needs_background": "light"
     },
     "output_type": "display_data"
    },
    {
     "data": {
      "image/png": "[encoded data removed]",
      "text/plain": [
       "<Figure size 720x288 with 2 Axes>"
      ]
     },
     "metadata": {
      "needs_background": "light"
     },
     "output_type": "display_data"
    }
   ],
   "source": [
    "countries = df3_dev.Country.unique()\n",
    "\n",
    "for country in countries:\n",
    "    fig, ax = plt.subplots(1,2, figsize=(10,4))\n",
    "    sns.histplot(data=df3_dev[df3_dev.Country == country], x=\"Salary\", ax=ax[0]).set_title(\"Salary Distribution for {}\".format(country));\n",
    "    sns.boxplot(x= df3_dev[df3_dev.Country == country].Salary, ax=ax[1]).set_title(\"Salary Boxplot for {}\".format(country));"
   ]
  },
  {
   "cell_type": "markdown",
   "metadata": {},
   "source": [
    "Looking at the distributions and boxplots a sensible measure of centrality is the median as most of them are not normally distributed and have some skew."
   ]
  },
  {
   "cell_type": "markdown",
   "metadata": {},
   "source": [
    "The results now need to be grouped by their country and the median value"
   ]
  },
  {
   "cell_type": "code",
   "execution_count": 70,
   "metadata": {},
   "outputs": [],
   "source": [
    "# getting students expected salarys respective of country:\n",
    "df3_students_expected = df3_student.groupby(by=\"Country\").ExpectedSalary.median().sort_values(ascending=False)"
   ]
  },
  {
   "cell_type": "code",
   "execution_count": 71,
   "metadata": {},
   "outputs": [],
   "source": [
    "df3_dev_salary = df3_dev.groupby(by=\"Country\").Salary.median().sort_values(ascending=False)"
   ]
  },
  {
   "cell_type": "code",
   "execution_count": 72,
   "metadata": {},
   "outputs": [],
   "source": [
    "df3_comparison = pd.concat([df3_students_expected, df3_dev_salary], axis=1)\n",
    "df3_comparison[\"difference\"] = 100*(df3_comparison.ExpectedSalary - df3_comparison.Salary)/df3_comparison.Salary"
   ]
  },
  {
   "cell_type": "code",
   "execution_count": 73,
   "metadata": {},
   "outputs": [
    {
     "data": {
      "image/png": "[encoded data removed]",
      "text/plain": [
       "<Figure size 1008x432 with 2 Axes>"
      ]
     },
     "metadata": {
      "needs_background": "light"
     },
     "output_type": "display_data"
    }
   ],
   "source": [
    "fig, (ax1, ax2) = plt.subplots(1, 2, figsize=(14,6))\n",
    "ax1.bar(df3_students_expected.index, df3_students_expected.values, color = \"lightskyblue\", label=\"Expected Salary\", alpha = 0.4)\n",
    "ax1.bar(df3_dev_salary.index, df3_dev_salary.values, color=\"limegreen\", label=\"Actual Salary\", alpha = 0.4)\n",
    "ax1.set(ylabel='Salary ($)')\n",
    "ax1.tick_params(labelrotation=90)\n",
    "ax1.set_title(\"Expected vs Actualy Salary for Students\");\n",
    "ax1.legend();\n",
    "\n",
    "ax2.bar(df3_comparison.index, df3_comparison.difference, color=\"red\", alpha = 0.4)\n",
    "ax2.tick_params(labelrotation=90)\n",
    "ax2.set(ylabel='Percentage Difference')\n",
    "\n",
    "pps = ax2.bar(df3_comparison.index, df3_comparison.difference, color=\"red\", alpha = 0.4)\n",
    "for p in pps:\n",
    "    height = p.get_height()\n",
    "    ax2.annotate('{:.0f}%'.format(height),\n",
    "      xy=(p.get_x() + p.get_width() / 2, height),\n",
    "      xytext=(0, 3), # 3 points vertical offset\n",
    "      textcoords=\"offset points\",\n",
    "      ha='center', va='bottom')\n",
    "    \n",
    "ax2.set_title(\"Percentage Difference between Expected Salary and Salary\");"
   ]
  },
  {
   "cell_type": "markdown",
   "metadata": {},
   "source": [
    "**Results** <br>\n",
    "\n",
    "The results show that all students in the top 5 most occuring countires in the dataset have unrealistic salary expectations. The UK and USA students tend to have the most realistic expectations, and india with the worst.\n",
    "\n",
    "The possible reaons for india having such a large difference in salary expectation could be because some of the students might be studying in a EU or USA university and therefore have a good chance of getting a job in a higher paid country. This is speculation and not backed by the data.\n",
    "\n",
    "To improve the results the survey could include a question about the country the student is studying in. The data could have also included mature students who might have more relavant business experience and therefore a higher salary. The same could be said for those that have a PhD."
   ]
  }
 ],
 "metadata": {
  "kernelspec": {
   "display_name": "Python 3",
   "language": "python",
   "name": "python3"
  },
  "language_info": {
   "codemirror_mode": {
    "name": "ipython",
    "version": 3
   },
   "file_extension": ".py",
   "mimetype": "text/x-python",
   "name": "python",
   "nbconvert_exporter": "python",
   "pygments_lexer": "ipython3",
   "version": "3.8.5"
  }
 },
 "nbformat": 4,
 "nbformat_minor": 4
}
